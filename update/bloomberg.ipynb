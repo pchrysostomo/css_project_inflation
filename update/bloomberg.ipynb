{
 "cells": [
  {
   "cell_type": "markdown",
   "id": "c7251a80-bf07-4610-9fec-e935e94ad290",
   "metadata": {},
   "source": [
    "# Bloomberg\n",
    "\n",
    "- ISM Manufacturing\n",
    "- ISM Services\n",
    "- NFIB\n",
    "- Existing Home Sales\n",
    "- Conference Board Consumer Confidence\n",
    "\n",
    "Importing data from excel files, and saving each survey as .parquet."
   ]
  },
  {
   "cell_type": "code",
   "execution_count": 1,
   "id": "cac102c4-1d11-4487-bfa9-f134b93c5646",
   "metadata": {},
   "outputs": [],
   "source": [
    "import os\n",
    "import pandas as pd\n",
    "\n",
    "# path for the folder \"project\"\n",
    "path = \"C:\\\\Users\\\\pedro\\\\OneDrive\\\\NYU\\\\CSS\\\\II. Data Skills\\\\project\"\n",
    "os.chdir(path)"
   ]
  },
  {
   "cell_type": "code",
   "execution_count": 2,
   "id": "18c10055-a854-439d-8ae0-c70b07bf5dd9",
   "metadata": {},
   "outputs": [],
   "source": [
    "# Importing Files\n",
    "ism = pd.read_csv(\"data\\\\business_surveys\\\\bbg_ism.csv\", parse_dates=[\"date\"])\n",
    "nfib = pd.read_csv(\"data\\\\business_surveys\\\\bbg_nfib.csv\", parse_dates=[\"date\"])\n",
    "ehs = pd.read_csv(\"data\\\\housing\\\\bbg_existing_home_sales.csv\", parse_dates=[\"date\"])\n",
    "conf_board = pd.read_csv(\"data\\\\consumer_confidence\\\\bbg_conference_board.csv\", parse_dates=[\"date\"])"
   ]
  },
  {
   "cell_type": "code",
   "execution_count": 3,
   "id": "4dcb9a3d-839c-4606-9700-d5113880e274",
   "metadata": {},
   "outputs": [],
   "source": [
    "# Melting\n",
    "ism = ism.melt(id_vars=\"date\",var_name=\"series_id\").dropna()\n",
    "nfib = nfib.melt(id_vars=\"date\",var_name=\"series_id\").dropna()\n",
    "ehs = ehs.melt(id_vars=\"date\",var_name=\"series_id\").dropna()\n",
    "conf_board = conf_board.melt(id_vars=\"date\",var_name=\"series_id\").dropna()"
   ]
  },
  {
   "cell_type": "code",
   "execution_count": 4,
   "id": "fe116a05-7876-4e5d-b156-4856a03c2541",
   "metadata": {},
   "outputs": [],
   "source": [
    "# saving\n",
    "ism.to_parquet(\"data\\\\business_surveys\\\\data_ism.parquet\")\n",
    "nfib.to_parquet(\"data\\\\business_surveys\\\\data_nfib.parquet\")\n",
    "ehs.to_parquet(\"data\\\\housing\\\\data_ehs.parquet\")\n",
    "conf_board.to_parquet(\"data\\\\consumer_confidence\\\\data_conf_board.parquet\")"
   ]
  }
 ],
 "metadata": {
  "kernelspec": {
   "display_name": "Python 3 (ipykernel)",
   "language": "python",
   "name": "python3"
  },
  "language_info": {
   "codemirror_mode": {
    "name": "ipython",
    "version": 3
   },
   "file_extension": ".py",
   "mimetype": "text/x-python",
   "name": "python",
   "nbconvert_exporter": "python",
   "pygments_lexer": "ipython3",
   "version": "3.9.12"
  }
 },
 "nbformat": 4,
 "nbformat_minor": 5
}
