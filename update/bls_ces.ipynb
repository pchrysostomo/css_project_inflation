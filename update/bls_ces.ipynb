{
 "cells": [
  {
   "cell_type": "markdown",
   "id": "493eb85c-4669-4905-9d7d-5021b2d5d825",
   "metadata": {
    "tags": []
   },
   "source": [
    "# Employment\n",
    "\n",
    "## BLS: Current Employment Survey (CES)\n",
    "\n",
    "**Survey Details from BLS:**                                                                    \n",
    "The Current Employment Statistics (CES) program provides estimates of employment, hours, and earnings information on a national basis and in considerable industry detail. The Bureau of Labor Statistics collects payroll data each month from a sample of business and government establishments in all nonfarm activities.\n",
    "\n",
    "A sample of approximately 149,000 businesses and government agencies representing approximately 651,000 worksites throughout the United States is utilized for this monthly survey. The sample contains about 300,000 employer units.\n",
    "\n",
    "Information about the survey can be found here [here](https://download.bls.gov/pub/time.series/ce/ce.txt)"
   ]
  },
  {
   "cell_type": "code",
   "execution_count": 1,
   "id": "a445a472-4152-427f-aa0a-17a3f5fdd5c3",
   "metadata": {},
   "outputs": [],
   "source": [
    "import os\n",
    "import pandas as pd\n",
    "\n",
    "# path for the folder \"project\"\n",
    "path = \"C:\\\\Users\\\\pedro\\\\OneDrive\\\\NYU\\\\CSS\\\\II. Data Skills\\\\project\"\n",
    "os.chdir(path)"
   ]
  },
  {
   "cell_type": "markdown",
   "id": "ca2d3825-e399-431c-bad5-c6162e3fad7c",
   "metadata": {},
   "source": [
    "Because the objective is to import the whole survey, using BLS' API doesn't seem to be the right tool. This notebook shows how to import the .txt files directly from BLS.  \n",
    "\n",
    "As described in the survey webpage:\n",
    "\n",
    "> Text files allow data users to retrieve large amounts of data with one selection. These datasets are highly suited for statistical software that manipulate large datasets.  The files are arranged first on a broad industry base, followed by industry specific groups. In addition to data files, a series of mapping files are also      available and provide a means for identifying all variables in the data files.\n"
   ]
  },
  {
   "cell_type": "markdown",
   "id": "24f74adf-cfd1-4375-b094-2d2ffe21a510",
   "metadata": {},
   "source": [
    "## Importing Data\n",
    "\n",
    "Importing all `CES Survey` files directly from [BLS](https://download.bls.gov/pub/time.series/ce/), and saving as a .parquet file:"
   ]
  },
  {
   "cell_type": "code",
   "execution_count": 2,
   "id": "74fb13ce-afd4-4538-b320-5a2f0aaec2e2",
   "metadata": {},
   "outputs": [],
   "source": [
    "CES = pd.read_csv(\"https://download.bls.gov/pub/time.series/ce/ce.data.0.AllCESSeries\", delimiter=\"\\t\")"
   ]
  },
  {
   "cell_type": "code",
   "execution_count": 4,
   "id": "0e7dd76c-d5f4-4911-a262-1770c3217980",
   "metadata": {},
   "outputs": [
    {
     "name": "stdout",
     "output_type": "stream",
     "text": [
      "<class 'pandas.core.frame.DataFrame'>\n",
      "RangeIndex: 8185203 entries, 0 to 8185202\n",
      "Data columns (total 5 columns):\n",
      " #   Column             Dtype  \n",
      "---  ------             -----  \n",
      " 0   series_id          object \n",
      " 1   year               int64  \n",
      " 2   period             object \n",
      " 3          value       float64\n",
      " 4   footnote_codes     object \n",
      "dtypes: float64(1), int64(1), object(3)\n",
      "memory usage: 312.2+ MB\n"
     ]
    },
    {
     "data": {
      "text/html": [
       "<div>\n",
       "<style scoped>\n",
       "    .dataframe tbody tr th:only-of-type {\n",
       "        vertical-align: middle;\n",
       "    }\n",
       "\n",
       "    .dataframe tbody tr th {\n",
       "        vertical-align: top;\n",
       "    }\n",
       "\n",
       "    .dataframe thead th {\n",
       "        text-align: right;\n",
       "    }\n",
       "</style>\n",
       "<table border=\"1\" class=\"dataframe\">\n",
       "  <thead>\n",
       "    <tr style=\"text-align: right;\">\n",
       "      <th></th>\n",
       "      <th>series_id</th>\n",
       "      <th>year</th>\n",
       "      <th>period</th>\n",
       "      <th>value</th>\n",
       "      <th>footnote_codes</th>\n",
       "    </tr>\n",
       "  </thead>\n",
       "  <tbody>\n",
       "    <tr>\n",
       "      <th>0</th>\n",
       "      <td>CES0000000001</td>\n",
       "      <td>1939</td>\n",
       "      <td>M01</td>\n",
       "      <td>29923.0</td>\n",
       "      <td>NaN</td>\n",
       "    </tr>\n",
       "    <tr>\n",
       "      <th>1</th>\n",
       "      <td>CES0000000001</td>\n",
       "      <td>1939</td>\n",
       "      <td>M02</td>\n",
       "      <td>30100.0</td>\n",
       "      <td>NaN</td>\n",
       "    </tr>\n",
       "    <tr>\n",
       "      <th>2</th>\n",
       "      <td>CES0000000001</td>\n",
       "      <td>1939</td>\n",
       "      <td>M03</td>\n",
       "      <td>30280.0</td>\n",
       "      <td>NaN</td>\n",
       "    </tr>\n",
       "    <tr>\n",
       "      <th>3</th>\n",
       "      <td>CES0000000001</td>\n",
       "      <td>1939</td>\n",
       "      <td>M04</td>\n",
       "      <td>30094.0</td>\n",
       "      <td>NaN</td>\n",
       "    </tr>\n",
       "    <tr>\n",
       "      <th>4</th>\n",
       "      <td>CES0000000001</td>\n",
       "      <td>1939</td>\n",
       "      <td>M05</td>\n",
       "      <td>30299.0</td>\n",
       "      <td>NaN</td>\n",
       "    </tr>\n",
       "  </tbody>\n",
       "</table>\n",
       "</div>"
      ],
      "text/plain": [
       "   series_id          year period         value footnote_codes\n",
       "0  CES0000000001      1939    M01       29923.0            NaN\n",
       "1  CES0000000001      1939    M02       30100.0            NaN\n",
       "2  CES0000000001      1939    M03       30280.0            NaN\n",
       "3  CES0000000001      1939    M04       30094.0            NaN\n",
       "4  CES0000000001      1939    M05       30299.0            NaN"
      ]
     },
     "execution_count": 4,
     "metadata": {},
     "output_type": "execute_result"
    }
   ],
   "source": [
    "CES.info()\n",
    "CES.head()"
   ]
  },
  {
   "cell_type": "markdown",
   "id": "2db12228-a24d-4f7c-a172-d694c6d1c554",
   "metadata": {},
   "source": [
    "Now, wrangling the data"
   ]
  },
  {
   "cell_type": "code",
   "execution_count": 5,
   "id": "7df6b024-e652-45c3-8ffc-24f218981397",
   "metadata": {},
   "outputs": [],
   "source": [
    "# Eliminating empty spaces at the beginning and end of column names:\n",
    "CES.columns = CES.columns.str.strip()\n",
    "\n",
    "# The same, but now for the values of \"series_id\":\n",
    "CES[\"series_id\"] = CES[\"series_id\"].str.strip()\n",
    "\n",
    "# Excluding the 'M13' (annual) period values and dropping \"footnote_codes\" column:\n",
    "CES = CES[CES[\"period\"] != 'M13'].drop(columns = \"footnote_codes\")\n",
    "\n",
    "# Building \"date\" column:\n",
    "CES[\"period\"] = CES[\"period\"].str.replace(\"M\",\"\")\n",
    "CES[\"date\"] = CES[\"year\"].astype(str) + \"-\" + CES[\"period\"] + \"-1\"\n",
    "CES[\"date\"] = pd.to_datetime(CES[\"date\"])\n",
    "\n",
    "# Dropping irrelevant variablels:\n",
    "CES = CES.drop(columns = [\"year\",\"period\"])[[\"series_id\",\"date\",\"value\"]]"
   ]
  },
  {
   "cell_type": "code",
   "execution_count": 6,
   "id": "e385e952-228e-4df9-82e0-ae11bbf06d96",
   "metadata": {},
   "outputs": [],
   "source": [
    "# saving as parquet file:\n",
    "CES.to_parquet(\"data\\\\employment\\\\data_bls_ces.parquet\")"
   ]
  },
  {
   "cell_type": "markdown",
   "id": "b1e4af83-6680-41be-aab3-6339ff4cbe9c",
   "metadata": {},
   "source": [
    "### Building Dictionary"
   ]
  },
  {
   "cell_type": "code",
   "execution_count": 7,
   "id": "0e11f391-d1bf-4731-8719-1ae3f4cf6808",
   "metadata": {},
   "outputs": [],
   "source": [
    "# importing data dictionary:\n",
    "series = pd.read_csv(\"https://download.bls.gov/pub/time.series/ce/ce.series\", delimiter=\"\\t\")\n",
    "\n",
    "# importing mapping files:\n",
    "data_type = pd.read_csv(\"https://download.bls.gov/pub/time.series/ce/ce.datatype\", delimiter=\"\\t\")\n",
    "sector = pd.read_csv(\"https://download.bls.gov/pub/time.series/ce/ce.supersector\", delimiter=\"\\t\")\n",
    "industry = pd.read_csv(\"https://download.bls.gov/pub/time.series/ce/ce.industry\", delimiter=\"\\t\")"
   ]
  },
  {
   "cell_type": "code",
   "execution_count": 8,
   "id": "947c9509-0dda-4a45-a110-ba144dc783e9",
   "metadata": {},
   "outputs": [],
   "source": [
    "# removing blank space of column names\n",
    "series.columns = series.columns.str.strip()\n",
    "data_type.columns = data_type.columns.str.strip()\n",
    "sector.columns = sector.columns.str.strip()\n",
    "industry.columns = industry.columns.str.strip()"
   ]
  },
  {
   "cell_type": "markdown",
   "id": "93ec6291-fb35-4d5f-a6b6-2983cfe7ac99",
   "metadata": {},
   "source": [
    "**BLS Dictionary**: series ids + variables codes"
   ]
  },
  {
   "cell_type": "code",
   "execution_count": 10,
   "id": "65da971c-43bc-4f11-9c6e-4662a2cb4984",
   "metadata": {},
   "outputs": [
    {
     "data": {
      "text/html": [
       "<div>\n",
       "<style scoped>\n",
       "    .dataframe tbody tr th:only-of-type {\n",
       "        vertical-align: middle;\n",
       "    }\n",
       "\n",
       "    .dataframe tbody tr th {\n",
       "        vertical-align: top;\n",
       "    }\n",
       "\n",
       "    .dataframe thead th {\n",
       "        text-align: right;\n",
       "    }\n",
       "</style>\n",
       "<table border=\"1\" class=\"dataframe\">\n",
       "  <thead>\n",
       "    <tr style=\"text-align: right;\">\n",
       "      <th></th>\n",
       "      <th>series_id</th>\n",
       "      <th>supersector_code</th>\n",
       "      <th>industry_code</th>\n",
       "      <th>data_type_code</th>\n",
       "      <th>seasonal</th>\n",
       "      <th>series_title</th>\n",
       "      <th>footnote_codes</th>\n",
       "      <th>begin_year</th>\n",
       "      <th>begin_period</th>\n",
       "      <th>end_year</th>\n",
       "      <th>end_period</th>\n",
       "    </tr>\n",
       "  </thead>\n",
       "  <tbody>\n",
       "    <tr>\n",
       "      <th>0</th>\n",
       "      <td>CES0000000001</td>\n",
       "      <td>0</td>\n",
       "      <td>0</td>\n",
       "      <td>1</td>\n",
       "      <td>S</td>\n",
       "      <td>All employees, thousands, total nonfarm, seaso...</td>\n",
       "      <td>NaN</td>\n",
       "      <td>1939</td>\n",
       "      <td>M01</td>\n",
       "      <td>2022</td>\n",
       "      <td>M11</td>\n",
       "    </tr>\n",
       "    <tr>\n",
       "      <th>1</th>\n",
       "      <td>CES0000000010</td>\n",
       "      <td>0</td>\n",
       "      <td>0</td>\n",
       "      <td>10</td>\n",
       "      <td>S</td>\n",
       "      <td>Women employees, thousands, total nonfarm, sea...</td>\n",
       "      <td>NaN</td>\n",
       "      <td>1964</td>\n",
       "      <td>M01</td>\n",
       "      <td>2022</td>\n",
       "      <td>M11</td>\n",
       "    </tr>\n",
       "  </tbody>\n",
       "</table>\n",
       "</div>"
      ],
      "text/plain": [
       "           series_id  supersector_code  industry_code  data_type_code  \\\n",
       "0  CES0000000001                     0              0               1   \n",
       "1  CES0000000010                     0              0              10   \n",
       "\n",
       "  seasonal                                       series_title footnote_codes  \\\n",
       "0        S  All employees, thousands, total nonfarm, seaso...            NaN   \n",
       "1        S  Women employees, thousands, total nonfarm, sea...            NaN   \n",
       "\n",
       "   begin_year begin_period  end_year end_period  \n",
       "0        1939          M01      2022        M11  \n",
       "1        1964          M01      2022        M11  "
      ]
     },
     "execution_count": 10,
     "metadata": {},
     "output_type": "execute_result"
    }
   ],
   "source": [
    "series.head(2)"
   ]
  },
  {
   "cell_type": "markdown",
   "id": "25a82ee2-77d6-4520-a5ad-2300ee24e4e6",
   "metadata": {},
   "source": [
    "**Mapping Files: data_type**  \n",
    "Employment, working hours, wages..."
   ]
  },
  {
   "cell_type": "code",
   "execution_count": 18,
   "id": "33391c49-c0f9-4c61-82e9-f2a94b87e898",
   "metadata": {},
   "outputs": [
    {
     "data": {
      "text/html": [
       "<div>\n",
       "<style scoped>\n",
       "    .dataframe tbody tr th:only-of-type {\n",
       "        vertical-align: middle;\n",
       "    }\n",
       "\n",
       "    .dataframe tbody tr th {\n",
       "        vertical-align: top;\n",
       "    }\n",
       "\n",
       "    .dataframe thead th {\n",
       "        text-align: right;\n",
       "    }\n",
       "</style>\n",
       "<table border=\"1\" class=\"dataframe\">\n",
       "  <thead>\n",
       "    <tr style=\"text-align: right;\">\n",
       "      <th></th>\n",
       "      <th>data_type_code</th>\n",
       "      <th>data_type_text</th>\n",
       "    </tr>\n",
       "  </thead>\n",
       "  <tbody>\n",
       "    <tr>\n",
       "      <th>0</th>\n",
       "      <td>1</td>\n",
       "      <td>ALL EMPLOYEES, THOUSANDS</td>\n",
       "    </tr>\n",
       "    <tr>\n",
       "      <th>1</th>\n",
       "      <td>2</td>\n",
       "      <td>AVERAGE WEEKLY HOURS OF ALL EMPLOYEES</td>\n",
       "    </tr>\n",
       "    <tr>\n",
       "      <th>2</th>\n",
       "      <td>3</td>\n",
       "      <td>AVERAGE HOURLY EARNINGS OF ALL EMPLOYEES</td>\n",
       "    </tr>\n",
       "  </tbody>\n",
       "</table>\n",
       "</div>"
      ],
      "text/plain": [
       "   data_type_code                            data_type_text\n",
       "0               1                  ALL EMPLOYEES, THOUSANDS\n",
       "1               2     AVERAGE WEEKLY HOURS OF ALL EMPLOYEES\n",
       "2               3  AVERAGE HOURLY EARNINGS OF ALL EMPLOYEES"
      ]
     },
     "metadata": {},
     "output_type": "display_data"
    },
    {
     "name": "stdout",
     "output_type": "stream",
     "text": [
      "\n",
      "data_type_text:\n",
      " ['ALL EMPLOYEES, THOUSANDS' 'AVERAGE WEEKLY HOURS OF ALL EMPLOYEES'\n",
      " 'AVERAGE HOURLY EARNINGS OF ALL EMPLOYEES'\n",
      " 'AVERAGE WEEKLY OVERTIME HOURS OF ALL EMPLOYEES'\n",
      " 'PRODUCTION AND NONSUPERVISORY EMPLOYEES, THOUSANDS'\n",
      " 'AVERAGE WEEKLY HOURS OF PRODUCTION AND NONSUPERVISORY EMPLOYEES'\n",
      " 'AVERAGE HOURLY EARNINGS OF PRODUCTION AND NONSUPERVISORY EMPLOYEES'\n",
      " 'AVERAGE WEEKLY OVERTIME HOURS OF PRODUCTION AND NONSUPERVISORY EMPLOYEES'\n",
      " 'WOMEN EMPLOYEES, THOUSANDS' 'AVERAGE WEEKLY EARNINGS OF ALL EMPLOYEES'\n",
      " 'AVERAGE WEEKLY EARNINGS OF ALL EMPLOYEES, 1982-1984 DOLLARS'\n",
      " 'AVERAGE HOURLY EARNINGS OF ALL EMPLOYEES, 1982-1984 DOLLARS'\n",
      " 'AVERAGE HOURLY EARNINGS OF ALL EMPLOYEES, EXCLUDING OVERTIME'\n",
      " 'INDEXES OF AGGREGATE WEEKLY HOURS OF ALL EMPLOYEES, 2007=100'\n",
      " 'INDEXES OF AGGREGATE WEEKLY PAYROLLS OF ALL EMPLOYEES, 2007=100'\n",
      " 'AVERAGE WEEKLY HOURS OF ALL EMPLOYEES, QUARTERLY AVERAGES, SEASONALLY ADJUSTED'\n",
      " 'AVERAGE WEEKLY OVERTIME HOURS OF ALL EMPLOYEES, QUARTERLY AVERAGES, SEASONALLY ADJUSTED'\n",
      " 'DIFFUSION INDEXES, 1-MONTH SPAN, SEASONALLY ADJUSTED'\n",
      " 'DIFFUSION INDEXES, 3-MONTH SPAN, SEASONALLY ADJUSTED'\n",
      " 'DIFFUSION INDEXES, 6-MONTH SPAN, SEASONALLY ADJUSTED'\n",
      " 'DIFFUSION INDEXES, 12-MONTH SPAN, NOT SEASONALLY ADJUSTED'\n",
      " 'ALL EMPLOYEES, QUARTERLY AVERAGES, SEASONALLY ADJUSTED, THOUSANDS'\n",
      " 'ALL EMPLOYEES, 3-MONTH AVERAGE CHANGE, SEASONALLY ADJUSTED, THOUSANDS'\n",
      " 'AVERAGE WEEKLY EARNINGS OF PRODUCTION AND NONSUPERVISORY EMPLOYEES'\n",
      " 'AVERAGE WEEKLY EARNINGS OF PRODUCTION AND NONSUPERVISORY EMPLOYEES, 1982-84 DOLLARS'\n",
      " 'AVERAGE HOURLY EARNINGS OF PRODUCTION AND NONSUPERVISORY EMPLOYEES, 1982-84 DOLLARS'\n",
      " 'AVERAGE HOURLY EARNINGS OF PRODUCTION AND NONSUPERVISORY EMPLOYEES, EXCLUDING OVERTIME'\n",
      " 'INDEXES OF AGGREGATE WEEKLY HOURS OF PRODUCTION AND NONSUPERVISORY EMPLOYEES, 2002=100'\n",
      " 'INDEXES OF AGGREGATE WEEKLY PAYROLLS OF PRODUCTION AND NONSUPERVISORY EMPLOYEES, 2002=100'\n",
      " 'AVERAGE WEEKLY HOURS, PRODUCTION/NONSUPERVISORY EMPLOYEES, QUARTERLY AVERAGES, SEASONALLY ADJUSTED'\n",
      " 'AVERAGE WEEKLY OVERTIME HOURS,PRODUCTION/NONSUPERVISORY EMPLOYEES,QUARTERLY AVG,SEASONALLY ADJUSTED'\n",
      " 'PRODUCTION AND NONSUPERVISORY EMPLOYEES-TO-ALL EMPLOYEES RATIO'\n",
      " 'WOMEN EMPLOYEES-TO-ALL EMPLOYEES RATIO'\n",
      " 'AGGREGATE WEEKLY HOURS OF ALL EMPLOYEES, THOUSANDS'\n",
      " 'AGGREGATE WEEKLY PAYROLLS OF ALL EMPLOYEES, THOUSANDS'\n",
      " 'AGGREGATE WEEKLY OVERTIME HOURS OF ALL EMPLOYEES, THOUSANDS'\n",
      " 'AGGREGATE WEEKLY HOURS OF PRODUCTION AND NONSUPERVISORY EMPLOYEES, THOUSANDS'\n",
      " 'AGGREGATE WEEKLY PAYROLLS OF PRODUCTION AND NONSUPERVISORY EMPLOYEES, THOUSANDS'\n",
      " 'AGGREGATE WEEKLY OVERTIME HOURS OF PRODUCTION AND NONSUPERVISORY EMPLOYEES, THOUSANDS'\n",
      " '1-MONTH CONFIDENCE INTERVAL, ALL EMPLOYEES'\n",
      " '3-MONTH CONFIDENCE INTERVAL, ALL EMPLOYEES'\n",
      " '6-MONTH CONFIDENCE INTERVAL, ALL EMPLOYEES'\n",
      " '12-MONTH CONFIDENCE INTERVAL, ALL EMPLOYEES' 'CPI-U 1982-84'\n",
      " 'CPI-W 1982-84']\n"
     ]
    }
   ],
   "source": [
    "display(data_type.head(3))\n",
    "print(\"\\ndata_type_text:\\n\",data_type.data_type_text.unique())"
   ]
  },
  {
   "cell_type": "markdown",
   "id": "0619beac-7d77-4bf7-9ce8-d9e8630026b2",
   "metadata": {},
   "source": [
    "**Mapping Files: sector**  \n",
    "(super)sector codes and names."
   ]
  },
  {
   "cell_type": "code",
   "execution_count": 21,
   "id": "ebbee4ba-23da-45f0-b620-1e67ee3e0a36",
   "metadata": {},
   "outputs": [
    {
     "data": {
      "text/html": [
       "<div>\n",
       "<style scoped>\n",
       "    .dataframe tbody tr th:only-of-type {\n",
       "        vertical-align: middle;\n",
       "    }\n",
       "\n",
       "    .dataframe tbody tr th {\n",
       "        vertical-align: top;\n",
       "    }\n",
       "\n",
       "    .dataframe thead th {\n",
       "        text-align: right;\n",
       "    }\n",
       "</style>\n",
       "<table border=\"1\" class=\"dataframe\">\n",
       "  <thead>\n",
       "    <tr style=\"text-align: right;\">\n",
       "      <th></th>\n",
       "      <th>supersector_code</th>\n",
       "      <th>supersector_name</th>\n",
       "    </tr>\n",
       "  </thead>\n",
       "  <tbody>\n",
       "    <tr>\n",
       "      <th>0</th>\n",
       "      <td>0</td>\n",
       "      <td>Total nonfarm</td>\n",
       "    </tr>\n",
       "    <tr>\n",
       "      <th>1</th>\n",
       "      <td>5</td>\n",
       "      <td>Total private</td>\n",
       "    </tr>\n",
       "    <tr>\n",
       "      <th>2</th>\n",
       "      <td>6</td>\n",
       "      <td>Goods-producing</td>\n",
       "    </tr>\n",
       "  </tbody>\n",
       "</table>\n",
       "</div>"
      ],
      "text/plain": [
       "   supersector_code supersector_name\n",
       "0                 0    Total nonfarm\n",
       "1                 5    Total private\n",
       "2                 6  Goods-producing"
      ]
     },
     "metadata": {},
     "output_type": "display_data"
    },
    {
     "name": "stdout",
     "output_type": "stream",
     "text": [
      "\n",
      "supersector_name:\n",
      " ['Total nonfarm' 'Total private' 'Goods-producing' 'Service-providing'\n",
      " 'Private service-providing' 'Mining and logging' 'Construction'\n",
      " 'Manufacturing' 'Durable Goods' 'Nondurable Goods'\n",
      " 'Trade, transportation, and utilities' 'Wholesale trade' 'Retail trade'\n",
      " 'Transportation and warehousing' 'Utilities' 'Information'\n",
      " 'Financial activities' 'Professional and business services'\n",
      " 'Education and health services' 'Leisure and hospitality'\n",
      " 'Other services' 'Government']\n"
     ]
    }
   ],
   "source": [
    "display(sector.head(3))\n",
    "print(\"\\nsupersector_name:\\n\",sector.supersector_name.unique())"
   ]
  },
  {
   "cell_type": "markdown",
   "id": "1b895975-b9d4-4cb4-ba5c-77fae8e4bb36",
   "metadata": {},
   "source": [
    "**Mapping Files: industry**  \n",
    "industry name within the sector  \n",
    "\n",
    "`publishing_status`: map to data_type (not important here, see survey info link)\n",
    "`display_level`, `selectable` and `sort_sequence`: variables to help to understand industry hierarchy"
   ]
  },
  {
   "cell_type": "code",
   "execution_count": 24,
   "id": "0a6bb046-4e9b-4938-b1e3-e6b131d15755",
   "metadata": {},
   "outputs": [
    {
     "data": {
      "text/html": [
       "<div>\n",
       "<style scoped>\n",
       "    .dataframe tbody tr th:only-of-type {\n",
       "        vertical-align: middle;\n",
       "    }\n",
       "\n",
       "    .dataframe tbody tr th {\n",
       "        vertical-align: top;\n",
       "    }\n",
       "\n",
       "    .dataframe thead th {\n",
       "        text-align: right;\n",
       "    }\n",
       "</style>\n",
       "<table border=\"1\" class=\"dataframe\">\n",
       "  <thead>\n",
       "    <tr style=\"text-align: right;\">\n",
       "      <th></th>\n",
       "      <th>industry_code</th>\n",
       "      <th>naics_code</th>\n",
       "      <th>publishing_status</th>\n",
       "      <th>industry_name</th>\n",
       "      <th>display_level</th>\n",
       "      <th>selectable</th>\n",
       "      <th>sort_sequence</th>\n",
       "    </tr>\n",
       "  </thead>\n",
       "  <tbody>\n",
       "    <tr>\n",
       "      <th>0</th>\n",
       "      <td>0</td>\n",
       "      <td>-</td>\n",
       "      <td>B</td>\n",
       "      <td>Total nonfarm</td>\n",
       "      <td>0</td>\n",
       "      <td>T</td>\n",
       "      <td>1</td>\n",
       "    </tr>\n",
       "    <tr>\n",
       "      <th>1</th>\n",
       "      <td>5000000</td>\n",
       "      <td>-</td>\n",
       "      <td>A</td>\n",
       "      <td>Total private</td>\n",
       "      <td>1</td>\n",
       "      <td>T</td>\n",
       "      <td>2</td>\n",
       "    </tr>\n",
       "    <tr>\n",
       "      <th>2</th>\n",
       "      <td>6000000</td>\n",
       "      <td>-</td>\n",
       "      <td>A</td>\n",
       "      <td>Goods-producing</td>\n",
       "      <td>1</td>\n",
       "      <td>T</td>\n",
       "      <td>3</td>\n",
       "    </tr>\n",
       "    <tr>\n",
       "      <th>3</th>\n",
       "      <td>7000000</td>\n",
       "      <td>-</td>\n",
       "      <td>B</td>\n",
       "      <td>Service-providing</td>\n",
       "      <td>1</td>\n",
       "      <td>T</td>\n",
       "      <td>4</td>\n",
       "    </tr>\n",
       "    <tr>\n",
       "      <th>4</th>\n",
       "      <td>8000000</td>\n",
       "      <td>-</td>\n",
       "      <td>A</td>\n",
       "      <td>Private service-providing</td>\n",
       "      <td>1</td>\n",
       "      <td>T</td>\n",
       "      <td>5</td>\n",
       "    </tr>\n",
       "  </tbody>\n",
       "</table>\n",
       "</div>"
      ],
      "text/plain": [
       "   industry_code naics_code publishing_status              industry_name  \\\n",
       "0              0          -                 B              Total nonfarm   \n",
       "1        5000000          -                 A              Total private   \n",
       "2        6000000          -                 A            Goods-producing   \n",
       "3        7000000          -                 B          Service-providing   \n",
       "4        8000000          -                 A  Private service-providing   \n",
       "\n",
       "   display_level selectable  sort_sequence  \n",
       "0              0          T              1  \n",
       "1              1          T              2  \n",
       "2              1          T              3  \n",
       "3              1          T              4  \n",
       "4              1          T              5  "
      ]
     },
     "execution_count": 24,
     "metadata": {},
     "output_type": "execute_result"
    }
   ],
   "source": [
    "industry.head()"
   ]
  },
  {
   "cell_type": "markdown",
   "id": "9f617c51-b27f-46b0-a520-538f6ee1baa4",
   "metadata": {},
   "source": [
    "Merging dictionary and mapping files"
   ]
  },
  {
   "cell_type": "code",
   "execution_count": 26,
   "id": "13d899f2-6db8-46ec-b0c3-821e26c08aa3",
   "metadata": {},
   "outputs": [
    {
     "data": {
      "text/html": [
       "<div>\n",
       "<style scoped>\n",
       "    .dataframe tbody tr th:only-of-type {\n",
       "        vertical-align: middle;\n",
       "    }\n",
       "\n",
       "    .dataframe tbody tr th {\n",
       "        vertical-align: top;\n",
       "    }\n",
       "\n",
       "    .dataframe thead th {\n",
       "        text-align: right;\n",
       "    }\n",
       "</style>\n",
       "<table border=\"1\" class=\"dataframe\">\n",
       "  <thead>\n",
       "    <tr style=\"text-align: right;\">\n",
       "      <th></th>\n",
       "      <th>series_id</th>\n",
       "      <th>data_type_text</th>\n",
       "      <th>supersector_name</th>\n",
       "      <th>industry_name</th>\n",
       "      <th>display_level</th>\n",
       "      <th>seasonal</th>\n",
       "      <th>series_title</th>\n",
       "    </tr>\n",
       "  </thead>\n",
       "  <tbody>\n",
       "    <tr>\n",
       "      <th>0</th>\n",
       "      <td>CES0000000001</td>\n",
       "      <td>ALL EMPLOYEES, THOUSANDS</td>\n",
       "      <td>Total nonfarm</td>\n",
       "      <td>Total nonfarm</td>\n",
       "      <td>0</td>\n",
       "      <td>S</td>\n",
       "      <td>All employees, thousands, total nonfarm, seaso...</td>\n",
       "    </tr>\n",
       "    <tr>\n",
       "      <th>1</th>\n",
       "      <td>CES0000000010</td>\n",
       "      <td>WOMEN EMPLOYEES, THOUSANDS</td>\n",
       "      <td>Total nonfarm</td>\n",
       "      <td>Total nonfarm</td>\n",
       "      <td>0</td>\n",
       "      <td>S</td>\n",
       "      <td>Women employees, thousands, total nonfarm, sea...</td>\n",
       "    </tr>\n",
       "  </tbody>\n",
       "</table>\n",
       "</div>"
      ],
      "text/plain": [
       "       series_id              data_type_text supersector_name  industry_name  \\\n",
       "0  CES0000000001    ALL EMPLOYEES, THOUSANDS    Total nonfarm  Total nonfarm   \n",
       "1  CES0000000010  WOMEN EMPLOYEES, THOUSANDS    Total nonfarm  Total nonfarm   \n",
       "\n",
       "   display_level seasonal                                       series_title  \n",
       "0              0        S  All employees, thousands, total nonfarm, seaso...  \n",
       "1              0        S  Women employees, thousands, total nonfarm, sea...  "
      ]
     },
     "execution_count": 26,
     "metadata": {},
     "output_type": "execute_result"
    }
   ],
   "source": [
    "ces_dict = pd.merge(series, data_type, how = \"left\", on = \"data_type_code\")\n",
    "ces_dict = pd.merge(ces_dict, sector, how = \"left\", on = \"supersector_code\")\n",
    "ces_dict = pd.merge(ces_dict, industry, how = \"left\", on = \"industry_code\")\n",
    "ces_dict[\"series_id\"] = ces_dict[\"series_id\"].str.strip()\n",
    "ces_dict = ces_dict[[\"series_id\",\"data_type_text\",\"supersector_name\",\"industry_name\",\n",
    "                     \"display_level\",\"seasonal\",\"series_title\"]]\n",
    "ces_dict.head(2)"
   ]
  },
  {
   "cell_type": "markdown",
   "id": "74d13a32-1f43-4f2c-9c0a-387755ecca1a",
   "metadata": {},
   "source": [
    "Saving data dictionary as .parquet file:"
   ]
  },
  {
   "cell_type": "code",
   "execution_count": 28,
   "id": "af64466a-5361-4661-bfb4-023a96f734ca",
   "metadata": {},
   "outputs": [],
   "source": [
    "ces_dict.to_parquet(\"data\\\\employment\\\\dict_bls_ces.parquet\")"
   ]
  }
 ],
 "metadata": {
  "kernelspec": {
   "display_name": "Python 3 (ipykernel)",
   "language": "python",
   "name": "python3"
  },
  "language_info": {
   "codemirror_mode": {
    "name": "ipython",
    "version": 3
   },
   "file_extension": ".py",
   "mimetype": "text/x-python",
   "name": "python",
   "nbconvert_exporter": "python",
   "pygments_lexer": "ipython3",
   "version": "3.9.12"
  }
 },
 "nbformat": 4,
 "nbformat_minor": 5
}
