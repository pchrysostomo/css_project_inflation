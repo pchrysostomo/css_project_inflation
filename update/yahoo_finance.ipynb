{
 "cells": [
  {
   "cell_type": "markdown",
   "id": "c0c987d4-2c67-4227-a605-2f027ff8d0f6",
   "metadata": {},
   "source": [
    "# Yahoo Finance"
   ]
  },
  {
   "cell_type": "code",
   "execution_count": null,
   "id": "98d6ab2d-88ab-49d8-9735-8896e76fcbc9",
   "metadata": {},
   "outputs": [],
   "source": [
    "# uncoment if you need to install\n",
    "#!pip install yfinance"
   ]
  },
  {
   "cell_type": "code",
   "execution_count": 2,
   "id": "a0d7c6d5-899f-4002-8ab9-fe7bb7db1eee",
   "metadata": {},
   "outputs": [],
   "source": [
    "import pandas as pd\n",
    "import yfinance as yf\n",
    "import os\n",
    "\n",
    "# path for the folder \"project\"\n",
    "path = \"C:\\\\Users\\\\pedro\\\\OneDrive\\\\NYU\\\\CSS\\\\II. Data Skills\\\\project\"\n",
    "os.chdir(path)"
   ]
  },
  {
   "cell_type": "markdown",
   "id": "29d48f15-a710-4920-86e5-5e411d4bbf9f",
   "metadata": {},
   "source": [
    "## S&P 500 data"
   ]
  },
  {
   "cell_type": "code",
   "execution_count": 3,
   "id": "5870410a-e8d0-482d-9235-9ea4af77fb62",
   "metadata": {},
   "outputs": [],
   "source": [
    "snp = yf.Ticker(\"^GSPC\")"
   ]
  },
  {
   "cell_type": "code",
   "execution_count": 21,
   "id": "c4e44890-d2f9-4618-a1bb-81a943fdb142",
   "metadata": {},
   "outputs": [],
   "source": [
    "snp_data = snp.history(period=\"max\")"
   ]
  },
  {
   "cell_type": "code",
   "execution_count": 22,
   "id": "f195dd59-46c4-4983-86fb-febf66e2320d",
   "metadata": {},
   "outputs": [
    {
     "data": {
      "text/html": [
       "<div>\n",
       "<style scoped>\n",
       "    .dataframe tbody tr th:only-of-type {\n",
       "        vertical-align: middle;\n",
       "    }\n",
       "\n",
       "    .dataframe tbody tr th {\n",
       "        vertical-align: top;\n",
       "    }\n",
       "\n",
       "    .dataframe thead th {\n",
       "        text-align: right;\n",
       "    }\n",
       "</style>\n",
       "<table border=\"1\" class=\"dataframe\">\n",
       "  <thead>\n",
       "    <tr style=\"text-align: right;\">\n",
       "      <th></th>\n",
       "      <th>Date</th>\n",
       "      <th>Open</th>\n",
       "      <th>High</th>\n",
       "      <th>Low</th>\n",
       "      <th>Close</th>\n",
       "      <th>Volume</th>\n",
       "      <th>Dividends</th>\n",
       "      <th>Stock Splits</th>\n",
       "    </tr>\n",
       "  </thead>\n",
       "  <tbody>\n",
       "    <tr>\n",
       "      <th>0</th>\n",
       "      <td>1927-12-30 00:00:00-05:00</td>\n",
       "      <td>17.660000</td>\n",
       "      <td>17.660000</td>\n",
       "      <td>17.660000</td>\n",
       "      <td>17.660000</td>\n",
       "      <td>0</td>\n",
       "      <td>0</td>\n",
       "      <td>0</td>\n",
       "    </tr>\n",
       "    <tr>\n",
       "      <th>1</th>\n",
       "      <td>1928-01-03 00:00:00-05:00</td>\n",
       "      <td>17.760000</td>\n",
       "      <td>17.760000</td>\n",
       "      <td>17.760000</td>\n",
       "      <td>17.760000</td>\n",
       "      <td>0</td>\n",
       "      <td>0</td>\n",
       "      <td>0</td>\n",
       "    </tr>\n",
       "    <tr>\n",
       "      <th>2</th>\n",
       "      <td>1928-01-04 00:00:00-05:00</td>\n",
       "      <td>17.719999</td>\n",
       "      <td>17.719999</td>\n",
       "      <td>17.719999</td>\n",
       "      <td>17.719999</td>\n",
       "      <td>0</td>\n",
       "      <td>0</td>\n",
       "      <td>0</td>\n",
       "    </tr>\n",
       "    <tr>\n",
       "      <th>3</th>\n",
       "      <td>1928-01-05 00:00:00-05:00</td>\n",
       "      <td>17.549999</td>\n",
       "      <td>17.549999</td>\n",
       "      <td>17.549999</td>\n",
       "      <td>17.549999</td>\n",
       "      <td>0</td>\n",
       "      <td>0</td>\n",
       "      <td>0</td>\n",
       "    </tr>\n",
       "    <tr>\n",
       "      <th>4</th>\n",
       "      <td>1928-01-06 00:00:00-05:00</td>\n",
       "      <td>17.660000</td>\n",
       "      <td>17.660000</td>\n",
       "      <td>17.660000</td>\n",
       "      <td>17.660000</td>\n",
       "      <td>0</td>\n",
       "      <td>0</td>\n",
       "      <td>0</td>\n",
       "    </tr>\n",
       "  </tbody>\n",
       "</table>\n",
       "</div>"
      ],
      "text/plain": [
       "                       Date       Open       High        Low      Close  \\\n",
       "0 1927-12-30 00:00:00-05:00  17.660000  17.660000  17.660000  17.660000   \n",
       "1 1928-01-03 00:00:00-05:00  17.760000  17.760000  17.760000  17.760000   \n",
       "2 1928-01-04 00:00:00-05:00  17.719999  17.719999  17.719999  17.719999   \n",
       "3 1928-01-05 00:00:00-05:00  17.549999  17.549999  17.549999  17.549999   \n",
       "4 1928-01-06 00:00:00-05:00  17.660000  17.660000  17.660000  17.660000   \n",
       "\n",
       "   Volume  Dividends  Stock Splits  \n",
       "0       0          0             0  \n",
       "1       0          0             0  \n",
       "2       0          0             0  \n",
       "3       0          0             0  \n",
       "4       0          0             0  "
      ]
     },
     "execution_count": 22,
     "metadata": {},
     "output_type": "execute_result"
    }
   ],
   "source": [
    "snp_data = snp_data.reset_index()\n",
    "snp_data.head()"
   ]
  },
  {
   "cell_type": "code",
   "execution_count": 23,
   "id": "2cf019f4-f637-4d0a-89c3-259ff941abde",
   "metadata": {},
   "outputs": [
    {
     "data": {
      "text/html": [
       "<div>\n",
       "<style scoped>\n",
       "    .dataframe tbody tr th:only-of-type {\n",
       "        vertical-align: middle;\n",
       "    }\n",
       "\n",
       "    .dataframe tbody tr th {\n",
       "        vertical-align: top;\n",
       "    }\n",
       "\n",
       "    .dataframe thead th {\n",
       "        text-align: right;\n",
       "    }\n",
       "</style>\n",
       "<table border=\"1\" class=\"dataframe\">\n",
       "  <thead>\n",
       "    <tr style=\"text-align: right;\">\n",
       "      <th></th>\n",
       "      <th>series_id</th>\n",
       "      <th>date</th>\n",
       "      <th>value</th>\n",
       "      <th>series_name</th>\n",
       "    </tr>\n",
       "  </thead>\n",
       "  <tbody>\n",
       "    <tr>\n",
       "      <th>0</th>\n",
       "      <td>GSPC</td>\n",
       "      <td>1927-12-30</td>\n",
       "      <td>17.660000</td>\n",
       "      <td>S&amp;P 500 Index</td>\n",
       "    </tr>\n",
       "    <tr>\n",
       "      <th>1</th>\n",
       "      <td>GSPC</td>\n",
       "      <td>1928-01-03</td>\n",
       "      <td>17.760000</td>\n",
       "      <td>S&amp;P 500 Index</td>\n",
       "    </tr>\n",
       "    <tr>\n",
       "      <th>2</th>\n",
       "      <td>GSPC</td>\n",
       "      <td>1928-01-04</td>\n",
       "      <td>17.719999</td>\n",
       "      <td>S&amp;P 500 Index</td>\n",
       "    </tr>\n",
       "    <tr>\n",
       "      <th>3</th>\n",
       "      <td>GSPC</td>\n",
       "      <td>1928-01-05</td>\n",
       "      <td>17.549999</td>\n",
       "      <td>S&amp;P 500 Index</td>\n",
       "    </tr>\n",
       "    <tr>\n",
       "      <th>4</th>\n",
       "      <td>GSPC</td>\n",
       "      <td>1928-01-06</td>\n",
       "      <td>17.660000</td>\n",
       "      <td>S&amp;P 500 Index</td>\n",
       "    </tr>\n",
       "  </tbody>\n",
       "</table>\n",
       "</div>"
      ],
      "text/plain": [
       "  series_id       date      value    series_name\n",
       "0      GSPC 1927-12-30  17.660000  S&P 500 Index\n",
       "1      GSPC 1928-01-03  17.760000  S&P 500 Index\n",
       "2      GSPC 1928-01-04  17.719999  S&P 500 Index\n",
       "3      GSPC 1928-01-05  17.549999  S&P 500 Index\n",
       "4      GSPC 1928-01-06  17.660000  S&P 500 Index"
      ]
     },
     "execution_count": 23,
     "metadata": {},
     "output_type": "execute_result"
    }
   ],
   "source": [
    "snp_data[\"Date\"] = pd.to_datetime(snp_data[\"Date\"].dt.date)\n",
    "snp_data = snp_data[[\"Date\",\"Close\"]]\n",
    "snp_data = snp_data.rename(columns = {\"Date\":\"date\",\"Close\":\"value\"})\n",
    "snp_data[\"series_id\"] = \"GSPC\"\n",
    "snp_data[\"series_name\"] = \"S&P 500 Index\"\n",
    "snp_data = snp_data[[\"series_id\",\"date\",\"value\",\"series_name\"]]\n",
    "snp_data.head()"
   ]
  },
  {
   "cell_type": "code",
   "execution_count": 25,
   "id": "94adec1f-b82f-4fd9-806b-72a24470aca6",
   "metadata": {},
   "outputs": [],
   "source": [
    "# save as parquet file:\n",
    "snp_data.to_parquet(\"data\\\\monetary_market\\\\data_yf_snp500.parquet\")"
   ]
  }
 ],
 "metadata": {
  "kernelspec": {
   "display_name": "Python 3 (ipykernel)",
   "language": "python",
   "name": "python3"
  },
  "language_info": {
   "codemirror_mode": {
    "name": "ipython",
    "version": 3
   },
   "file_extension": ".py",
   "mimetype": "text/x-python",
   "name": "python",
   "nbconvert_exporter": "python",
   "pygments_lexer": "ipython3",
   "version": "3.9.12"
  }
 },
 "nbformat": 4,
 "nbformat_minor": 5
}
