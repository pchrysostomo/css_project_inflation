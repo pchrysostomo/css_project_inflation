{
 "cells": [
  {
   "cell_type": "markdown",
   "id": "63dcdacf-2357-4e44-9efe-acc45b327abc",
   "metadata": {},
   "source": [
    "# FRED data\n",
    "\n",
    "Documentation can be found in this [link](https://fred.stlouisfed.org/docs/api/fred/). But we are going to use the package `fredapi` to get the data"
   ]
  },
  {
   "cell_type": "code",
   "execution_count": 2,
   "id": "8c77b057-acb3-4c35-ba47-d1e011638221",
   "metadata": {},
   "outputs": [],
   "source": [
    "# uncoment if you need to install\n",
    "#!pip install fredapi"
   ]
  },
  {
   "cell_type": "code",
   "execution_count": 1,
   "id": "bfbef959-6177-4692-9889-7a2d659a01e1",
   "metadata": {},
   "outputs": [],
   "source": [
    "import pandas as pd\n",
    "import fredapi as fa\n",
    "import os\n",
    "\n",
    "# path for the folder \"project\"\n",
    "path = \"C:\\\\Users\\\\pedro\\\\OneDrive\\\\NYU\\\\CSS\\\\II. Data Skills\\\\project\"\n",
    "os.chdir(path)\n",
    "\n",
    "import keys # file with api keys\n",
    "key = keys.FRED\n",
    "fred = fa.Fred(api_key = key)"
   ]
  },
  {
   "cell_type": "code",
   "execution_count": 2,
   "id": "faa155e1-e5fd-42a2-a772-8adda59c3a22",
   "metadata": {},
   "outputs": [],
   "source": [
    "# function\n",
    "def fred_api(series_id, series_name, unit, seasonal):\n",
    "    \"\"\"\n",
    "    Get series from fred and add metadata information to it.\n",
    "    \n",
    "    ---\n",
    "    Parameters:\n",
    "        series_id [str]: series individual id from fred\n",
    "        series_name [str]: How would you like to call the series\n",
    "        unit [str]: type of data (YoY, MoM, Index, Dollar Value...)\n",
    "        seasonal [str]: seasonal adjust (S) or without adjust (U)\n",
    "    \n",
    "    ---\n",
    "    Returns: Pandas DataFrame with series and details\n",
    "    \n",
    "    \"\"\"\n",
    "    \n",
    "    series = fred.get_series(series_id).reset_index().dropna()\n",
    "    series = series.rename(columns = {series.columns[0]:\"date\", series.columns[1]:\"value\"})\n",
    "    series[\"series_id\"] = series_id\n",
    "    series[\"series_name\"] = series_name\n",
    "    series[\"unit\"] = unit\n",
    "    series[\"seasonal\"] = seasonal\n",
    "    \n",
    "    return series[[\"series_id\",\"date\",\"value\",\"series_name\",\"unit\",\"seasonal\"]]"
   ]
  },
  {
   "cell_type": "markdown",
   "id": "3cf11b1e-86b8-42a8-99e8-ae53a459e353",
   "metadata": {
    "tags": []
   },
   "source": [
    "## Housing\n",
    "\n",
    "- `CSUSHPINSA`: S&P/Case-Shiller U.S. National Home Price Index (Jan2000=100, Not Seasonally Adjusted)\n",
    "- `CSUSHPISA`: S&P/Case-Shiller U.S. National Home Price Index (Jan2000=100, Seasonally Adjusted)\n",
    "- `MORTGAGE30US`: 30-Year Fixed Rate Mortgage Average in the United States"
   ]
  },
  {
   "cell_type": "markdown",
   "id": "966a6bef-18ca-421f-9454-58254515cb0b",
   "metadata": {},
   "source": [
    "### Case Shiller"
   ]
  },
  {
   "cell_type": "code",
   "execution_count": 4,
   "id": "813934c1-0d86-4a03-9ace-a0c8a6c86820",
   "metadata": {},
   "outputs": [
    {
     "name": "stdout",
     "output_type": "stream",
     "text": [
      "<class 'pandas.core.frame.DataFrame'>\n",
      "Int64Index: 858 entries, 144 to 572\n",
      "Data columns (total 6 columns):\n",
      " #   Column       Non-Null Count  Dtype         \n",
      "---  ------       --------------  -----         \n",
      " 0   series_id    858 non-null    object        \n",
      " 1   date         858 non-null    datetime64[ns]\n",
      " 2   value        858 non-null    float64       \n",
      " 3   series_name  858 non-null    object        \n",
      " 4   unit         858 non-null    object        \n",
      " 5   seasonal     858 non-null    object        \n",
      "dtypes: datetime64[ns](1), float64(1), object(4)\n",
      "memory usage: 46.9+ KB\n"
     ]
    },
    {
     "data": {
      "text/html": [
       "<div>\n",
       "<style scoped>\n",
       "    .dataframe tbody tr th:only-of-type {\n",
       "        vertical-align: middle;\n",
       "    }\n",
       "\n",
       "    .dataframe tbody tr th {\n",
       "        vertical-align: top;\n",
       "    }\n",
       "\n",
       "    .dataframe thead th {\n",
       "        text-align: right;\n",
       "    }\n",
       "</style>\n",
       "<table border=\"1\" class=\"dataframe\">\n",
       "  <thead>\n",
       "    <tr style=\"text-align: right;\">\n",
       "      <th></th>\n",
       "      <th>series_id</th>\n",
       "      <th>date</th>\n",
       "      <th>value</th>\n",
       "      <th>series_name</th>\n",
       "      <th>unit</th>\n",
       "      <th>seasonal</th>\n",
       "    </tr>\n",
       "  </thead>\n",
       "  <tbody>\n",
       "    <tr>\n",
       "      <th>144</th>\n",
       "      <td>CSUSHPINSA</td>\n",
       "      <td>1987-01-01</td>\n",
       "      <td>63.734</td>\n",
       "      <td>CS Home Price Index</td>\n",
       "      <td>Index</td>\n",
       "      <td>U</td>\n",
       "    </tr>\n",
       "    <tr>\n",
       "      <th>145</th>\n",
       "      <td>CSUSHPINSA</td>\n",
       "      <td>1987-02-01</td>\n",
       "      <td>64.134</td>\n",
       "      <td>CS Home Price Index</td>\n",
       "      <td>Index</td>\n",
       "      <td>U</td>\n",
       "    </tr>\n",
       "    <tr>\n",
       "      <th>146</th>\n",
       "      <td>CSUSHPINSA</td>\n",
       "      <td>1987-03-01</td>\n",
       "      <td>64.470</td>\n",
       "      <td>CS Home Price Index</td>\n",
       "      <td>Index</td>\n",
       "      <td>U</td>\n",
       "    </tr>\n",
       "    <tr>\n",
       "      <th>147</th>\n",
       "      <td>CSUSHPINSA</td>\n",
       "      <td>1987-04-01</td>\n",
       "      <td>64.974</td>\n",
       "      <td>CS Home Price Index</td>\n",
       "      <td>Index</td>\n",
       "      <td>U</td>\n",
       "    </tr>\n",
       "    <tr>\n",
       "      <th>148</th>\n",
       "      <td>CSUSHPINSA</td>\n",
       "      <td>1987-05-01</td>\n",
       "      <td>65.548</td>\n",
       "      <td>CS Home Price Index</td>\n",
       "      <td>Index</td>\n",
       "      <td>U</td>\n",
       "    </tr>\n",
       "  </tbody>\n",
       "</table>\n",
       "</div>"
      ],
      "text/plain": [
       "      series_id       date   value          series_name   unit seasonal\n",
       "144  CSUSHPINSA 1987-01-01  63.734  CS Home Price Index  Index        U\n",
       "145  CSUSHPINSA 1987-02-01  64.134  CS Home Price Index  Index        U\n",
       "146  CSUSHPINSA 1987-03-01  64.470  CS Home Price Index  Index        U\n",
       "147  CSUSHPINSA 1987-04-01  64.974  CS Home Price Index  Index        U\n",
       "148  CSUSHPINSA 1987-05-01  65.548  CS Home Price Index  Index        U"
      ]
     },
     "execution_count": 4,
     "metadata": {},
     "output_type": "execute_result"
    }
   ],
   "source": [
    "# CASE SHILLER (NSA)\n",
    "csnsa = fred_api(series_id = \"CSUSHPINSA\",\n",
    "                 series_name = \"CS Home Price Index\",\n",
    "                 unit = \"Index\", seasonal = \"U\")\n",
    "\n",
    "# CASE SHILLER (SA)\n",
    "cssa = fred_api(series_id = \"CSUSHPISA\",\n",
    "                 series_name = \"CS Home Price Index\",\n",
    "                 unit = \"Index\", seasonal = \"S\")\n",
    "\n",
    "# concat\n",
    "case_shiller = pd.concat([csnsa, cssa])\n",
    "\n",
    "case_shiller.info()\n",
    "case_shiller.head()"
   ]
  },
  {
   "cell_type": "code",
   "execution_count": 5,
   "id": "a3bf6ad6-328a-4a1e-a32c-08db677ce95b",
   "metadata": {},
   "outputs": [],
   "source": [
    "case_shiller.to_parquet(\"data\\\\housing\\\\data_fred_caseshiller.parquet\")"
   ]
  },
  {
   "cell_type": "markdown",
   "id": "30986ad5-5207-4490-9d0b-034eb0c63053",
   "metadata": {},
   "source": [
    "### Mortgage Rate"
   ]
  },
  {
   "cell_type": "code",
   "execution_count": 6,
   "id": "76ff7648-3dae-4ae9-992d-4bd258138b9b",
   "metadata": {},
   "outputs": [
    {
     "name": "stdout",
     "output_type": "stream",
     "text": [
      "<class 'pandas.core.frame.DataFrame'>\n",
      "RangeIndex: 2696 entries, 0 to 2695\n",
      "Data columns (total 6 columns):\n",
      " #   Column       Non-Null Count  Dtype         \n",
      "---  ------       --------------  -----         \n",
      " 0   series_id    2696 non-null   object        \n",
      " 1   date         2696 non-null   datetime64[ns]\n",
      " 2   value        2696 non-null   float64       \n",
      " 3   series_name  2696 non-null   object        \n",
      " 4   unit         2696 non-null   object        \n",
      " 5   seasonal     2696 non-null   object        \n",
      "dtypes: datetime64[ns](1), float64(1), object(4)\n",
      "memory usage: 126.5+ KB\n"
     ]
    },
    {
     "data": {
      "text/html": [
       "<div>\n",
       "<style scoped>\n",
       "    .dataframe tbody tr th:only-of-type {\n",
       "        vertical-align: middle;\n",
       "    }\n",
       "\n",
       "    .dataframe tbody tr th {\n",
       "        vertical-align: top;\n",
       "    }\n",
       "\n",
       "    .dataframe thead th {\n",
       "        text-align: right;\n",
       "    }\n",
       "</style>\n",
       "<table border=\"1\" class=\"dataframe\">\n",
       "  <thead>\n",
       "    <tr style=\"text-align: right;\">\n",
       "      <th></th>\n",
       "      <th>series_id</th>\n",
       "      <th>date</th>\n",
       "      <th>value</th>\n",
       "      <th>series_name</th>\n",
       "      <th>unit</th>\n",
       "      <th>seasonal</th>\n",
       "    </tr>\n",
       "  </thead>\n",
       "  <tbody>\n",
       "    <tr>\n",
       "      <th>0</th>\n",
       "      <td>MORTGAGE30US</td>\n",
       "      <td>1971-04-02</td>\n",
       "      <td>7.33</td>\n",
       "      <td>30 Years Mortgage Rate</td>\n",
       "      <td>Percent</td>\n",
       "      <td>U</td>\n",
       "    </tr>\n",
       "    <tr>\n",
       "      <th>1</th>\n",
       "      <td>MORTGAGE30US</td>\n",
       "      <td>1971-04-09</td>\n",
       "      <td>7.31</td>\n",
       "      <td>30 Years Mortgage Rate</td>\n",
       "      <td>Percent</td>\n",
       "      <td>U</td>\n",
       "    </tr>\n",
       "    <tr>\n",
       "      <th>2</th>\n",
       "      <td>MORTGAGE30US</td>\n",
       "      <td>1971-04-16</td>\n",
       "      <td>7.31</td>\n",
       "      <td>30 Years Mortgage Rate</td>\n",
       "      <td>Percent</td>\n",
       "      <td>U</td>\n",
       "    </tr>\n",
       "    <tr>\n",
       "      <th>3</th>\n",
       "      <td>MORTGAGE30US</td>\n",
       "      <td>1971-04-23</td>\n",
       "      <td>7.31</td>\n",
       "      <td>30 Years Mortgage Rate</td>\n",
       "      <td>Percent</td>\n",
       "      <td>U</td>\n",
       "    </tr>\n",
       "    <tr>\n",
       "      <th>4</th>\n",
       "      <td>MORTGAGE30US</td>\n",
       "      <td>1971-04-30</td>\n",
       "      <td>7.29</td>\n",
       "      <td>30 Years Mortgage Rate</td>\n",
       "      <td>Percent</td>\n",
       "      <td>U</td>\n",
       "    </tr>\n",
       "  </tbody>\n",
       "</table>\n",
       "</div>"
      ],
      "text/plain": [
       "      series_id       date  value             series_name     unit seasonal\n",
       "0  MORTGAGE30US 1971-04-02   7.33  30 Years Mortgage Rate  Percent        U\n",
       "1  MORTGAGE30US 1971-04-09   7.31  30 Years Mortgage Rate  Percent        U\n",
       "2  MORTGAGE30US 1971-04-16   7.31  30 Years Mortgage Rate  Percent        U\n",
       "3  MORTGAGE30US 1971-04-23   7.31  30 Years Mortgage Rate  Percent        U\n",
       "4  MORTGAGE30US 1971-04-30   7.29  30 Years Mortgage Rate  Percent        U"
      ]
     },
     "execution_count": 6,
     "metadata": {},
     "output_type": "execute_result"
    }
   ],
   "source": [
    "# Mortgage Rate\n",
    "mortgage = fred_api(series_id = \"MORTGAGE30US\",\n",
    "                    series_name = \"30 Years Mortgage Rate\",\n",
    "                    unit = \"Percent\", seasonal = \"U\")\n",
    "\n",
    "mortgage.info()\n",
    "mortgage.head()"
   ]
  },
  {
   "cell_type": "code",
   "execution_count": 7,
   "id": "087615dd-807c-45ed-8549-be7b2adfbf40",
   "metadata": {},
   "outputs": [],
   "source": [
    "mortgage.to_parquet(\"data\\\\housing\\\\data_fred_mortgage.parquet\")"
   ]
  },
  {
   "cell_type": "markdown",
   "id": "a3af6f62-4624-4dd2-85f8-836900ff0455",
   "metadata": {},
   "source": [
    "## Inflation"
   ]
  },
  {
   "cell_type": "markdown",
   "id": "b3ad6440-a6db-457f-ad0a-4f45da7d4e42",
   "metadata": {},
   "source": [
    "- `GASREGW`: US Regular All Formulations Gas Price\n",
    "- `PFOODINDEXM`: Global Food Price Index"
   ]
  },
  {
   "cell_type": "markdown",
   "id": "63404bc5-d110-464a-a304-c211b74a183b",
   "metadata": {},
   "source": [
    "### Gasoline Prices"
   ]
  },
  {
   "cell_type": "code",
   "execution_count": 8,
   "id": "7696b470-e6a5-4f68-809f-4abe1da57283",
   "metadata": {},
   "outputs": [
    {
     "name": "stdout",
     "output_type": "stream",
     "text": [
      "<class 'pandas.core.frame.DataFrame'>\n",
      "Int64Index: 1679 entries, 0 to 1684\n",
      "Data columns (total 6 columns):\n",
      " #   Column       Non-Null Count  Dtype         \n",
      "---  ------       --------------  -----         \n",
      " 0   series_id    1679 non-null   object        \n",
      " 1   date         1679 non-null   datetime64[ns]\n",
      " 2   value        1679 non-null   float64       \n",
      " 3   series_name  1679 non-null   object        \n",
      " 4   unit         1679 non-null   object        \n",
      " 5   seasonal     1679 non-null   object        \n",
      "dtypes: datetime64[ns](1), float64(1), object(4)\n",
      "memory usage: 91.8+ KB\n"
     ]
    },
    {
     "data": {
      "text/html": [
       "<div>\n",
       "<style scoped>\n",
       "    .dataframe tbody tr th:only-of-type {\n",
       "        vertical-align: middle;\n",
       "    }\n",
       "\n",
       "    .dataframe tbody tr th {\n",
       "        vertical-align: top;\n",
       "    }\n",
       "\n",
       "    .dataframe thead th {\n",
       "        text-align: right;\n",
       "    }\n",
       "</style>\n",
       "<table border=\"1\" class=\"dataframe\">\n",
       "  <thead>\n",
       "    <tr style=\"text-align: right;\">\n",
       "      <th></th>\n",
       "      <th>series_id</th>\n",
       "      <th>date</th>\n",
       "      <th>value</th>\n",
       "      <th>series_name</th>\n",
       "      <th>unit</th>\n",
       "      <th>seasonal</th>\n",
       "    </tr>\n",
       "  </thead>\n",
       "  <tbody>\n",
       "    <tr>\n",
       "      <th>0</th>\n",
       "      <td>GASREGW</td>\n",
       "      <td>1990-08-20</td>\n",
       "      <td>1.191</td>\n",
       "      <td>US Weekly Gas Price</td>\n",
       "      <td>Dollars per Gallon</td>\n",
       "      <td>U</td>\n",
       "    </tr>\n",
       "    <tr>\n",
       "      <th>1</th>\n",
       "      <td>GASREGW</td>\n",
       "      <td>1990-08-27</td>\n",
       "      <td>1.245</td>\n",
       "      <td>US Weekly Gas Price</td>\n",
       "      <td>Dollars per Gallon</td>\n",
       "      <td>U</td>\n",
       "    </tr>\n",
       "    <tr>\n",
       "      <th>2</th>\n",
       "      <td>GASREGW</td>\n",
       "      <td>1990-09-03</td>\n",
       "      <td>1.242</td>\n",
       "      <td>US Weekly Gas Price</td>\n",
       "      <td>Dollars per Gallon</td>\n",
       "      <td>U</td>\n",
       "    </tr>\n",
       "    <tr>\n",
       "      <th>3</th>\n",
       "      <td>GASREGW</td>\n",
       "      <td>1990-09-10</td>\n",
       "      <td>1.252</td>\n",
       "      <td>US Weekly Gas Price</td>\n",
       "      <td>Dollars per Gallon</td>\n",
       "      <td>U</td>\n",
       "    </tr>\n",
       "    <tr>\n",
       "      <th>4</th>\n",
       "      <td>GASREGW</td>\n",
       "      <td>1990-09-17</td>\n",
       "      <td>1.266</td>\n",
       "      <td>US Weekly Gas Price</td>\n",
       "      <td>Dollars per Gallon</td>\n",
       "      <td>U</td>\n",
       "    </tr>\n",
       "  </tbody>\n",
       "</table>\n",
       "</div>"
      ],
      "text/plain": [
       "  series_id       date  value          series_name                unit  \\\n",
       "0   GASREGW 1990-08-20  1.191  US Weekly Gas Price  Dollars per Gallon   \n",
       "1   GASREGW 1990-08-27  1.245  US Weekly Gas Price  Dollars per Gallon   \n",
       "2   GASREGW 1990-09-03  1.242  US Weekly Gas Price  Dollars per Gallon   \n",
       "3   GASREGW 1990-09-10  1.252  US Weekly Gas Price  Dollars per Gallon   \n",
       "4   GASREGW 1990-09-17  1.266  US Weekly Gas Price  Dollars per Gallon   \n",
       "\n",
       "  seasonal  \n",
       "0        U  \n",
       "1        U  \n",
       "2        U  \n",
       "3        U  \n",
       "4        U  "
      ]
     },
     "execution_count": 8,
     "metadata": {},
     "output_type": "execute_result"
    }
   ],
   "source": [
    "gas = fred_api(series_id = \"GASREGW\",\n",
    "                 series_name = \"US Weekly Gas Price\",\n",
    "                 unit = \"Dollars per Gallon\", seasonal = \"U\")\n",
    "gas.info()\n",
    "gas.head()"
   ]
  },
  {
   "cell_type": "code",
   "execution_count": 9,
   "id": "f06746a0-04af-43e6-9627-705bbbd35e2e",
   "metadata": {
    "tags": []
   },
   "outputs": [],
   "source": [
    "gas.to_parquet(\"data\\\\inflation\\\\data_fred_gasprice.parquet\")"
   ]
  },
  {
   "cell_type": "code",
   "execution_count": 7,
   "id": "b573caed-f806-4175-8c03-d3a89745ede7",
   "metadata": {},
   "outputs": [],
   "source": [
    "# Global food index\n",
    "food = fred_api(series_id = \"PFOODINDEXM\",\n",
    "                   series_name = \"Global Food Price Index\",\n",
    "                   unit = \"Index\", seasonal = \"U\")\n",
    "\n",
    "food.to_parquet(\"data\\\\inflation\\\\data_fred_foodprice.parquet\")"
   ]
  },
  {
   "cell_type": "markdown",
   "id": "a8869f7f-321b-4812-a95e-ed645bc0272e",
   "metadata": {},
   "source": [
    "## Employment\n",
    "\n",
    "- `ICSA`: Initial Jobless Claims SA\n",
    "- `CCSA`: Continued Claims SA"
   ]
  },
  {
   "cell_type": "code",
   "execution_count": 3,
   "id": "028381c1-e10c-4ede-bc45-e69ea8e70d76",
   "metadata": {},
   "outputs": [
    {
     "data": {
      "text/html": [
       "<div>\n",
       "<style scoped>\n",
       "    .dataframe tbody tr th:only-of-type {\n",
       "        vertical-align: middle;\n",
       "    }\n",
       "\n",
       "    .dataframe tbody tr th {\n",
       "        vertical-align: top;\n",
       "    }\n",
       "\n",
       "    .dataframe thead th {\n",
       "        text-align: right;\n",
       "    }\n",
       "</style>\n",
       "<table border=\"1\" class=\"dataframe\">\n",
       "  <thead>\n",
       "    <tr style=\"text-align: right;\">\n",
       "      <th></th>\n",
       "      <th>series_id</th>\n",
       "      <th>date</th>\n",
       "      <th>value</th>\n",
       "      <th>series_name</th>\n",
       "      <th>unit</th>\n",
       "      <th>seasonal</th>\n",
       "    </tr>\n",
       "  </thead>\n",
       "  <tbody>\n",
       "    <tr>\n",
       "      <th>0</th>\n",
       "      <td>ICSA</td>\n",
       "      <td>1967-01-07</td>\n",
       "      <td>208000.0</td>\n",
       "      <td>US Initial Jobless Claims</td>\n",
       "      <td>Number</td>\n",
       "      <td>S</td>\n",
       "    </tr>\n",
       "    <tr>\n",
       "      <th>1</th>\n",
       "      <td>ICSA</td>\n",
       "      <td>1967-01-14</td>\n",
       "      <td>207000.0</td>\n",
       "      <td>US Initial Jobless Claims</td>\n",
       "      <td>Number</td>\n",
       "      <td>S</td>\n",
       "    </tr>\n",
       "    <tr>\n",
       "      <th>2</th>\n",
       "      <td>ICSA</td>\n",
       "      <td>1967-01-21</td>\n",
       "      <td>217000.0</td>\n",
       "      <td>US Initial Jobless Claims</td>\n",
       "      <td>Number</td>\n",
       "      <td>S</td>\n",
       "    </tr>\n",
       "    <tr>\n",
       "      <th>3</th>\n",
       "      <td>ICSA</td>\n",
       "      <td>1967-01-28</td>\n",
       "      <td>204000.0</td>\n",
       "      <td>US Initial Jobless Claims</td>\n",
       "      <td>Number</td>\n",
       "      <td>S</td>\n",
       "    </tr>\n",
       "    <tr>\n",
       "      <th>4</th>\n",
       "      <td>ICSA</td>\n",
       "      <td>1967-02-04</td>\n",
       "      <td>216000.0</td>\n",
       "      <td>US Initial Jobless Claims</td>\n",
       "      <td>Number</td>\n",
       "      <td>S</td>\n",
       "    </tr>\n",
       "  </tbody>\n",
       "</table>\n",
       "</div>"
      ],
      "text/plain": [
       "  series_id       date     value                series_name    unit seasonal\n",
       "0      ICSA 1967-01-07  208000.0  US Initial Jobless Claims  Number        S\n",
       "1      ICSA 1967-01-14  207000.0  US Initial Jobless Claims  Number        S\n",
       "2      ICSA 1967-01-21  217000.0  US Initial Jobless Claims  Number        S\n",
       "3      ICSA 1967-01-28  204000.0  US Initial Jobless Claims  Number        S\n",
       "4      ICSA 1967-02-04  216000.0  US Initial Jobless Claims  Number        S"
      ]
     },
     "execution_count": 3,
     "metadata": {},
     "output_type": "execute_result"
    }
   ],
   "source": [
    "# Jobless Claims\n",
    "iclaims = fred_api(series_id = \"ICSA\",\n",
    "                   series_name = \"US Initial Jobless Claims\",\n",
    "                   unit = \"Number\", seasonal = \"S\")\n",
    "\n",
    "cclaims = fred_api(series_id = \"CCSA\",\n",
    "                   series_name = \"US Contined Claims\",\n",
    "                   unit = \"Number\", seasonal = \"S\")\n",
    "\n",
    "claims = pd.concat([iclaims,cclaims])\n",
    "claims.head()"
   ]
  },
  {
   "cell_type": "code",
   "execution_count": 5,
   "id": "8066b294-5b13-43b8-b7aa-f2fd4a24663a",
   "metadata": {},
   "outputs": [],
   "source": [
    "claims.to_parquet(\"data\\\\employment\\\\data_fred_jobless_claims.parquet\")"
   ]
  },
  {
   "cell_type": "markdown",
   "id": "aebdef3e-017c-4708-ba18-33eaabff36d6",
   "metadata": {},
   "source": [
    "## Monetary Policy and Financial Market\n",
    "\n",
    "- `FEDFUNDS`: Fed Funds  \n",
    "- `DGS1`: 1 Year Treasury Rate\n",
    "- `DGS2`: 2 Years Treasury Rate\n",
    "- `DGS5`: 5 Years Treasury Rate\n",
    "- `DGS10`: 10 Year Treasury Rate\n",
    "- `DGS30`: 30 Year Treasury Rate\n",
    "- `T5YIE`: 5 Years Breakeven Rate\n",
    "- `T10YIE`: 10 Years Breakeven Rate\n",
    "- `T5YIFR`: 5 Years, 5 Years Forward Inflation Expectation Rate\n",
    "- `RESPPANWW`: Fed Total Assets (Millions of U.S. Dollars)\n",
    "- `BOGZ1FL192090005Q`: Households Net Worth, Level (Millions of Dollars)\n",
    "- `DTWEXBGS`: Nominal Broad U.S. Dollar Index\n",
    "- `M2SL`: M2 Seasonally Adjusted\n"
   ]
  },
  {
   "cell_type": "markdown",
   "id": "afef57e5-0478-4f0e-b573-5da4675ab8cf",
   "metadata": {},
   "source": [
    "### Rates"
   ]
  },
  {
   "cell_type": "code",
   "execution_count": 3,
   "id": "1a708c77-a7b7-4957-aaa8-779e84221279",
   "metadata": {},
   "outputs": [],
   "source": [
    "# Fed funds\n",
    "ff = fred_api(series_id = \"RIFSPFFNB\",\n",
    "              series_name = \"FED Funds Rate\",\n",
    "                   unit = \"Rate\", seasonal = \"U\")\n",
    "\n",
    "ff.to_parquet(\"data\\\\monetary_market\\\\data_fred_fed_funds.parquet\")\n",
    "\n",
    "# treasury yields\n",
    "ust1 = fred_api(series_id = \"DGS1\",\n",
    "                   series_name = \"US 1 Year Treasury Rate\",\n",
    "                   unit = \"Rate\", seasonal = \"U\")\n",
    "\n",
    "ust2 = fred_api(series_id = \"DGS2\",\n",
    "                   series_name = \"US 2 Years Treasury Rate\",\n",
    "                   unit = \"Rate\", seasonal = \"U\")\n",
    "\n",
    "ust5 = fred_api(series_id = \"DGS5\",\n",
    "                   series_name = \"US 5 Years Treasury Rate\",\n",
    "                   unit = \"Rate\", seasonal = \"U\")\n",
    "\n",
    "ust10 = fred_api(series_id = \"DGS10\",\n",
    "                   series_name = \"US 10 Years Treasury Rate\",\n",
    "                   unit = \"Rate\", seasonal = \"U\")\n",
    "\n",
    "ust30 = fred_api(series_id = \"DGS30\",\n",
    "                   series_name = \"US 30 Years Treasury Rate\",\n",
    "                   unit = \"Rate\", seasonal = \"U\")\n",
    "\n",
    "ust = pd.concat([ust1,ust2,ust5,ust10,ust30])\n",
    "\n",
    "ust.to_parquet(\"data\\\\monetary_market\\\\data_fred_treasury_yields.parquet\")"
   ]
  },
  {
   "cell_type": "markdown",
   "id": "27214875-c783-4a9f-86a4-6cded614d9e5",
   "metadata": {},
   "source": [
    "### Breakevens"
   ]
  },
  {
   "cell_type": "code",
   "execution_count": 4,
   "id": "5157dcf0-0429-495b-ac4d-70be7a8253b8",
   "metadata": {},
   "outputs": [],
   "source": [
    "be5 = fred_api(series_id = \"T5YIE\",\n",
    "                   series_name = \"US 5 Years Breakeven Rate\",\n",
    "                   unit = \"Rate\", seasonal = \"U\")\n",
    "\n",
    "be10 = fred_api(series_id = \"T10YIE\",\n",
    "                   series_name = \"US 10 Years Breakeven Rate\",\n",
    "                   unit = \"Rate\", seasonal = \"U\")\n",
    "\n",
    "be55 = fred_api(series_id = \"T5YIFR\",\n",
    "                   series_name = \"US 5Y-5Y Forward Inflation Expectation\",\n",
    "                   unit = \"Rate\", seasonal = \"U\")\n",
    "\n",
    "be = pd.concat([be5,be10,be55])\n",
    "\n",
    "be.to_parquet(\"data\\\\monetary_market\\\\data_fred_breakeven_rates.parquet\")"
   ]
  },
  {
   "cell_type": "markdown",
   "id": "607e51f6-44b7-4240-b278-888b1cd803ba",
   "metadata": {},
   "source": [
    "### Others"
   ]
  },
  {
   "cell_type": "code",
   "execution_count": 3,
   "id": "49fced39-6d07-4a84-b985-7c0725182b4a",
   "metadata": {},
   "outputs": [],
   "source": [
    "# Fed Total Assets\n",
    "fedassets = fred_api(series_id = \"RESPPANWW\",\n",
    "                     series_name = \"FED Total Assets\",\n",
    "                     unit = \"Millions of Dollars\", seasonal = \"U\")\n",
    "\n",
    "fedassets.to_parquet(\"data\\\\monetary_market\\\\data_fred_fed_assets.parquet\")\n",
    "\n",
    "# Households Net Worth, Level (Millions of Dollars)\n",
    "networth = fred_api(series_id = \"BOGZ1FL192090005Q\",\n",
    "                     series_name = \"Households Net Worth\",\n",
    "                     unit = \"Millions of Dollars\", seasonal = \"U\")\n",
    "\n",
    "networth.to_parquet(\"data\\\\monetary_market\\\\data_fred_households_networth.parquet\")\n",
    "\n",
    "# Nominal Broad U.S. Dollar Index\n",
    "usd = fred_api(series_id = \"DTWEXBGS\",\n",
    "                     series_name = \"Nominal Broad U.S. Dollar Index\",\n",
    "                     unit = \"Index\", seasonal = \"U\")\n",
    "\n",
    "usd.to_parquet(\"data\\\\fiscal_trade\\\\data_fred_usd.parquet\")\n",
    "\n",
    "#M2 \n",
    "m2 = fred_api(series_id = \"M2SL\",\n",
    "                     series_name = \"M2\",\n",
    "                     unit = \"Billions of Dollars\", seasonal = \"S\")\n",
    "\n",
    "m2.to_parquet(\"data\\\\monetary_market\\\\data_fred_m2.parquet\")"
   ]
  },
  {
   "cell_type": "markdown",
   "id": "e2a0c439-984e-4075-8b3f-aabedcdf1c8f",
   "metadata": {
    "tags": []
   },
   "source": [
    "## Fiscal\n",
    "\n",
    "- `MTSO133FMS`: Total Federal Outlays (Millions of Dollars, Not Seasonally Adjusted)\n",
    "- `MTSR133FMS`: Total Federal Receipts (Millions of Dollars, Not Seasonally Adjusted)"
   ]
  },
  {
   "cell_type": "code",
   "execution_count": 8,
   "id": "c9690829-19cd-4ab2-bc59-a231475078af",
   "metadata": {},
   "outputs": [],
   "source": [
    "outlays = fred_api(series_id = \"MTSO133FMS\",\n",
    "                   series_name = \"Total Federal Outlays\",\n",
    "                   unit = \"Millions of Dollars\", seasonal = \"U\")\n",
    "\n",
    "receipts = fred_api(series_id = \"MTSR133FMS\",\n",
    "                   series_name = \"Total Federal Receipts\",\n",
    "                   unit = \"Millions of Dollars\", seasonal = \"U\")\n",
    "\n",
    "government = pd.concat([outlays,receipts])\n",
    "\n",
    "government.to_parquet(\"data\\\\fiscal_trade\\\\data_fred_government_accounts.parquet\")"
   ]
  }
 ],
 "metadata": {
  "kernelspec": {
   "display_name": "Python 3 (ipykernel)",
   "language": "python",
   "name": "python3"
  },
  "language_info": {
   "codemirror_mode": {
    "name": "ipython",
    "version": 3
   },
   "file_extension": ".py",
   "mimetype": "text/x-python",
   "name": "python",
   "nbconvert_exporter": "python",
   "pygments_lexer": "ipython3",
   "version": "3.9.12"
  }
 },
 "nbformat": 4,
 "nbformat_minor": 5
}
