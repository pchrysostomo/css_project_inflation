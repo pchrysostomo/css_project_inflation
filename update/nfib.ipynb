{
 "cells": [
  {
   "cell_type": "markdown",
   "id": "edb66e62-9d50-49d5-935a-e7d33d882601",
   "metadata": {
    "tags": []
   },
   "source": [
    "# NFIB\n",
    "\n",
    "The [small business optimism index](https://www.nfib.com/surveys/small-business-economic-trends/) from NFIB is a good way to quantify daily news regarding economic conditions, since it cover more than 3,000 small/medium size companys. NFIB has an API, the documentation is in this [link](http://www.nfib-sbet.org/developers/)."
   ]
  },
  {
   "cell_type": "markdown",
   "id": "e9cdd33a-c537-4a80-a8d1-63f7f3c726e9",
   "metadata": {},
   "source": [
    "Description of the API:\n",
    "\n",
    "- URL: `http://open.api.nfib-sbet.org/rest/sbetdb/_proc/<procedure_name>`\n",
    "- Request: POST\n",
    "- Header Parameters:\n",
    "    - app_name – This is the API Key that should always be passed in the call. Required value is “sbet”\n",
    "    - params – An array of parameters definitions and settings for each parameter required by the stored procedure. Each parameter consists of the following elements:\n",
    "        - name – String. Name of the parameter as defined in the stored procedure\n",
    "        - param_type – String. Allowed value of “IN” (input only)\n",
    "        - value – String or Integer. The value to pass into the stored procedure for the parameter\n",
    "\n",
    "Note:  \n",
    "> That's the official documentation. It won't work. I was able to get the data using:  \n",
    "`http://open.api.nfib-sbet.org/rest/sbetdb/_proc/getIndicators?app_name=sbet`\n",
    "\n",
    "Note2:\n",
    "> Data from the API doesn't seem to be updated anymore.\n"
   ]
  },
  {
   "cell_type": "code",
   "execution_count": 4,
   "id": "31db0baa-2be6-4acd-9e7b-7595a40f3800",
   "metadata": {},
   "outputs": [],
   "source": [
    "import pandas as pd\n",
    "import requests\n",
    "import os\n",
    "import json\n",
    "\n",
    "# path for the folder \"project\"\n",
    "path = \"C:\\\\Users\\\\pedro\\\\OneDrive\\\\NYU\\\\CSS\\\\II. Data Skills\\\\project\"\n",
    "os.chdir(path)"
   ]
  },
  {
   "cell_type": "code",
   "execution_count": 19,
   "id": "c9a684ad-67d2-429a-93ea-5c448c42a176",
   "metadata": {},
   "outputs": [
    {
     "data": {
      "text/plain": [
       "b'[{\"monthyear\":\"2015/12/1\",\"OPT_INDEX\":\"94.977\"},{\"monthyear\":\"2015/11/1\",\"OPT_INDEX\":\"94.612\"},{\"monthyear\":\"2015/10/1\",\"OPT_INDEX\":\"95.982\"},{\"monthyear\":\"2015/9/1\",\"OPT_INDEX\":\"96.347\"},{\"monthyear\":\"2015/8/1\",\"OPT_INDEX\":\"95.89\"},{\"monthyear\":\"2015/7/1\",\"OPT_INDEX\":\"95.799\"},{\"monthyear\":\"2015/6/1\",\"OPT_INDEX\":\"94.795\"},{\"monthyear\":\"2014/12/1\",\"OPT_INDEX\":\"100.091\"},{\"monthyear\":\"2014/11/1\",\"OPT_INDEX\":\"97.9\"},{\"monthyear\":\"2014/10/1\",\"OPT_INDEX\":\"95.982\"},{\"monthyear\":\"2014/9/1\",\"OPT_INDEX\":\"95.616\"},{\"monthyear\":\"2014/8/1\",\"OPT_INDEX\":\"95.982\"},{\"monthyear\":\"2014/7/1\",\"OPT_INDEX\":\"96.073\"},{\"monthyear\":\"2014/6/1\",\"OPT_INDEX\":\"95.616\"},{\"monthyear\":\"2013/12/1\",\"OPT_INDEX\":\"93.607\"},{\"monthyear\":\"2013/11/1\",\"OPT_INDEX\":\"92.329\"},{\"monthyear\":\"2013/10/1\",\"OPT_INDEX\":\"91.507\"},{\"monthyear\":\"2013/9/1\",\"OPT_INDEX\":\"94.155\"},{\"monthyear\":\"2013/8/1\",\"OPT_INDEX\":\"94.155\"},{\"monthyear\":\"2013/7/1\",\"OPT_INDEX\":\"94.429\"},{\"monthyear\":\"2013/6/1\",\"OPT_INDEX\":\"94.155\"},{\"monthyear\":\"2012/12/1\",\"OPT_INDEX\":\"87.763\"},{\"monthyear\":\"2012/11/1\",\"OPT_INDEX\":\"87.306\"},{\"monthyear\":\"2012/10/1\",\"OPT_INDEX\":\"92.968\"},{\"monthyear\":\"2012/9/1\",\"OPT_INDEX\":\"93.059\"},{\"monthyear\":\"2012/8/1\",\"OPT_INDEX\":\"92.877\"},{\"monthyear\":\"2012/7/1\",\"OPT_INDEX\":\"91.598\"},{\"monthyear\":\"2012/6/1\",\"OPT_INDEX\":\"92.055\"},{\"monthyear\":\"2011/12/1\",\"OPT_INDEX\":\"93.516\"},{\"monthyear\":\"2011/11/1\",\"OPT_INDEX\":\"91.872\"},{\"monthyear\":\"2011/10/1\",\"OPT_INDEX\":\"90.137\"},{\"monthyear\":\"2011/9/1\",\"OPT_INDEX\":\"89.224\"},{\"monthyear\":\"2011/8/1\",\"OPT_INDEX\":\"88.128\"},{\"monthyear\":\"2011/7/1\",\"OPT_INDEX\":\"90.32\"},{\"monthyear\":\"2011/6/1\",\"OPT_INDEX\":\"91.416\"},{\"monthyear\":\"2010/12/1\",\"OPT_INDEX\":\"92.329\"},{\"monthyear\":\"2010/11/1\",\"OPT_INDEX\":\"93.059\"},{\"monthyear\":\"2010/10/1\",\"OPT_INDEX\":\"91.598\"},{\"monthyear\":\"2010/9/1\",\"OPT_INDEX\":\"89.315\"},{\"monthyear\":\"2010/8/1\",\"OPT_INDEX\":\"88.767\"},{\"monthyear\":\"2010/7/1\",\"OPT_INDEX\":\"88.493\"},{\"monthyear\":\"2010/6/1\",\"OPT_INDEX\":\"89.68\"}]'"
      ]
     },
     "execution_count": 19,
     "metadata": {},
     "output_type": "execute_result"
    }
   ],
   "source": [
    "headers = {'Content-type': 'application/json'}\n",
    "\n",
    "params = {\"params\": [\n",
    "              { \"name\": \"minYear\", \"param_type\": \"IN\", \"value\": 2010 },\n",
    "              { \"name\": \"minMonth\", \"param_type\": \"IN\", \"value\": 6 },\n",
    "              { \"name\": \"maxYear\", \"param_type\": \"IN\", \"value\": 2015 },\n",
    "              { \"name\": \"maxMonth\", \"param_type\": \"IN\", \"value\": 12 },\n",
    "              { \"name\": \"indicator\", \"param_type\": \"IN\", \"value\": \"OPT_INDEX\" }\n",
    "          ]\n",
    "         }\n",
    "\n",
    "data = json.dumps(params)\n",
    "p = requests.post('http://open.api.nfib-sbet.org/rest/sbetdb/_proc/getIndicators?app_name=sbet',\n",
    "                  headers=headers, data=data)\n",
    "p.content"
   ]
  },
  {
   "cell_type": "code",
   "execution_count": 22,
   "id": "c1d02b04-24af-4c07-a835-13671db0563f",
   "metadata": {},
   "outputs": [
    {
     "data": {
      "text/plain": [
       "b'[]'"
      ]
     },
     "execution_count": 22,
     "metadata": {},
     "output_type": "execute_result"
    }
   ],
   "source": [
    "headers = {'Content-type': 'application/json'}\n",
    "\n",
    "params = {\"params\": [\n",
    "              { \"name\": \"minYear\", \"param_type\": \"IN\", \"value\": 2019 },\n",
    "              { \"name\": \"minMonth\", \"param_type\": \"IN\", \"value\": 6 },\n",
    "              { \"name\": \"maxYear\", \"param_type\": \"IN\", \"value\": 2020 },\n",
    "              { \"name\": \"maxMonth\", \"param_type\": \"IN\", \"value\": 12 },\n",
    "              { \"name\": \"indicator\", \"param_type\": \"IN\", \"value\": \"job_openings\" }\n",
    "          ]\n",
    "         }\n",
    "\n",
    "data = json.dumps(params)\n",
    "p = requests.post('http://open.api.nfib-sbet.org/rest/sbetdb/_proc/getIndicators?app_name=sbet',\n",
    "                  headers=headers, data=data)\n",
    "p.content"
   ]
  },
  {
   "cell_type": "markdown",
   "id": "297b152a-22b2-485f-bcef-636f08a39851",
   "metadata": {},
   "source": [
    "## Downloading Data\n",
    "\n",
    "Because the API isn't updated anymore, individual .xlsx files can be downloaded at this [link](http://www.nfib-sbet.org/indicators/)"
   ]
  },
  {
   "cell_type": "code",
   "execution_count": null,
   "id": "729a5f82-85e2-415c-aa68-9204824cc3aa",
   "metadata": {},
   "outputs": [],
   "source": []
  }
 ],
 "metadata": {
  "kernelspec": {
   "display_name": "Python 3 (ipykernel)",
   "language": "python",
   "name": "python3"
  },
  "language_info": {
   "codemirror_mode": {
    "name": "ipython",
    "version": 3
   },
   "file_extension": ".py",
   "mimetype": "text/x-python",
   "name": "python",
   "nbconvert_exporter": "python",
   "pygments_lexer": "ipython3",
   "version": "3.9.12"
  }
 },
 "nbformat": 4,
 "nbformat_minor": 5
}
